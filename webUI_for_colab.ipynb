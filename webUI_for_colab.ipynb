{
  "cells": [
    {
      "cell_type": "markdown",
      "metadata": {
        "id": "NTOqr1TTkkNo"
      },
      "source": [
        "# Music-Source-Separation-Training-Inference-Webui For Google Colab\n",
        "\n",
        "For personal entertainment and non-commercial use only. Prohibited from use in content related to blood, gore, violence, sex, politics.<br>\n",
        "Author: [Github@KitsuneX07](https://github.com/KitsuneX07) | [Github@SUC-DriverOld](https://github.com/SUC-DriverOld) | Gradio theme: [Gradio Theme](https://huggingface.co/spaces/NoCrypt/miku)<br>\n",
        "Github: [MSST-WebUI](https://github.com/SUC-DriverOld/MSST-WebUI)\n",
        "\n",
        "## Introduction\n",
        "\n",
        "This is a webUI for [Music-Source-Separation-Training](https://github.com/ZFTurbo/Music-Source-Separation-Training), which is a music source separation training framework. You can use this webUI to infer the MSST model and UVR VR.Models (The inference code comes from [python-audio-separator](https://github.com/nomadkaraoke/python-audio-separator), and we do some changes on it), and the preset process page allows you to customize the processing flow yourself. When used on the cloud, you don't need to download the model yourself. WebUI will automatically download the model you need. Finally, we also provide some convenient tools such as [SOME: Vocals to MIDI](https://github.com/openvpi/SOME/) in the webUI."
      ]
    },
    {
      "cell_type": "code",
      "execution_count": 2,
      "metadata": {
        "id": "jqHsCUp6kkNt",
        "outputId": "5bd3f5f9-8632-4973-de48-eb37d0bb9aca",
        "colab": {
          "base_uri": "https://localhost:8080/"
        }
      },
      "outputs": [
        {
          "output_type": "stream",
          "name": "stdout",
          "text": [
            "Tue Jan 14 11:48:36 2025       \n",
            "+---------------------------------------------------------------------------------------+\n",
            "| NVIDIA-SMI 535.104.05             Driver Version: 535.104.05   CUDA Version: 12.2     |\n",
            "|-----------------------------------------+----------------------+----------------------+\n",
            "| GPU  Name                 Persistence-M | Bus-Id        Disp.A | Volatile Uncorr. ECC |\n",
            "| Fan  Temp   Perf          Pwr:Usage/Cap |         Memory-Usage | GPU-Util  Compute M. |\n",
            "|                                         |                      |               MIG M. |\n",
            "|=========================================+======================+======================|\n",
            "|   0  Tesla T4                       Off | 00000000:00:04.0 Off |                    0 |\n",
            "| N/A   60C    P8              10W /  70W |      0MiB / 15360MiB |      0%      Default |\n",
            "|                                         |                      |                  N/A |\n",
            "+-----------------------------------------+----------------------+----------------------+\n",
            "                                                                                         \n",
            "+---------------------------------------------------------------------------------------+\n",
            "| Processes:                                                                            |\n",
            "|  GPU   GI   CI        PID   Type   Process name                            GPU Memory |\n",
            "|        ID   ID                                                             Usage      |\n",
            "|=======================================================================================|\n",
            "|  No running processes found                                                           |\n",
            "+---------------------------------------------------------------------------------------+\n"
          ]
        }
      ],
      "source": [
        "#@title Connect to colab runtime and check GPU\n",
        "#@markdown # Connect to colab runtime and check GPU\n",
        "#@markdown\n",
        "\n",
        "!nvidia-smi"
      ]
    },
    {
      "cell_type": "code",
      "execution_count": 3,
      "metadata": {
        "id": "fUeQwJ_NkkNv",
        "outputId": "fdd6971e-ba3b-4cd4-ce7c-892432224245",
        "colab": {
          "base_uri": "https://localhost:8080/"
        }
      },
      "outputs": [
        {
          "output_type": "stream",
          "name": "stdout",
          "text": [
            "Reading package lists... Done\n",
            "Building dependency tree... Done\n",
            "Reading state information... Done\n",
            "python3.10 is already the newest version (3.10.12-1~22.04.7).\n",
            "0 upgraded, 0 newly installed, 0 to remove and 49 not upgraded.\n",
            "Reading package lists... Done\n",
            "Building dependency tree... Done\n",
            "Reading state information... Done\n",
            "ffmpeg is already the newest version (7:4.4.2-0ubuntu0.22.04.1).\n",
            "0 upgraded, 0 newly installed, 0 to remove and 49 not upgraded.\n"
          ]
        }
      ],
      "source": [
        "#@title Install python 3.10, ffmpeg\n",
        "#@markdown # Install python 3.10, ffmpeg\n",
        "#@markdown\n",
        "\n",
        "!sudo apt install python3.10\n",
        "!sudo apt install ffmpeg"
      ]
    },
    {
      "cell_type": "code",
      "execution_count": 2,
      "metadata": {
        "id": "L1C3xRaIkkNw",
        "outputId": "103aaad5-5e52-4d91-86cb-bfb71fb97cee",
        "colab": {
          "base_uri": "https://localhost:8080/"
        }
      },
      "outputs": [
        {
          "output_type": "stream",
          "name": "stdout",
          "text": [
            "/content\n",
            "fatal: destination path 'MSST-WebUI' already exists and is not an empty directory.\n",
            "/content/MSST-WebUI\n",
            "Requirement already satisfied: pip in /usr/local/lib/python3.10/dist-packages (24.3.1)\n",
            "Requirement already satisfied: setuptools in /usr/local/lib/python3.10/dist-packages (75.8.0)\n",
            "Looking in indexes: https://download.pytorch.org/whl/cu121\n",
            "Requirement already satisfied: torch in /usr/local/lib/python3.10/dist-packages (2.5.1+cu121)\n",
            "Requirement already satisfied: torchvision in /usr/local/lib/python3.10/dist-packages (0.20.1+cu121)\n",
            "Requirement already satisfied: torchaudio in /usr/local/lib/python3.10/dist-packages (2.5.1+cu121)\n",
            "Requirement already satisfied: filelock in /usr/local/lib/python3.10/dist-packages (from torch) (3.16.1)\n",
            "Requirement already satisfied: typing-extensions>=4.8.0 in /usr/local/lib/python3.10/dist-packages (from torch) (4.12.2)\n",
            "Requirement already satisfied: networkx in /usr/local/lib/python3.10/dist-packages (from torch) (3.4.2)\n",
            "Requirement already satisfied: jinja2 in /usr/local/lib/python3.10/dist-packages (from torch) (3.1.5)\n",
            "Requirement already satisfied: fsspec in /usr/local/lib/python3.10/dist-packages (from torch) (2024.10.0)\n",
            "Requirement already satisfied: sympy==1.13.1 in /usr/local/lib/python3.10/dist-packages (from torch) (1.13.1)\n",
            "Requirement already satisfied: mpmath<1.4,>=1.1.0 in /usr/local/lib/python3.10/dist-packages (from sympy==1.13.1->torch) (1.3.0)\n",
            "Requirement already satisfied: numpy in /usr/local/lib/python3.10/dist-packages (from torchvision) (1.26.4)\n",
            "Requirement already satisfied: pillow!=8.3.*,>=5.3.0 in /usr/local/lib/python3.10/dist-packages (from torchvision) (10.4.0)\n",
            "Requirement already satisfied: MarkupSafe>=2.0 in /usr/local/lib/python3.10/dist-packages (from jinja2->torch) (2.1.5)\n",
            "Processing ./tools/webUI_for_clouds/librosa-0.9.2-py3-none-any.whl\n",
            "Requirement already satisfied: audioread>=2.1.9 in /usr/local/lib/python3.10/dist-packages (from librosa==0.9.2) (3.0.1)\n",
            "Requirement already satisfied: numpy>=1.17.0 in /usr/local/lib/python3.10/dist-packages (from librosa==0.9.2) (1.26.4)\n",
            "Requirement already satisfied: scipy>=1.2.0 in /usr/local/lib/python3.10/dist-packages (from librosa==0.9.2) (1.13.1)\n",
            "Requirement already satisfied: scikit-learn>=0.19.1 in /usr/local/lib/python3.10/dist-packages (from librosa==0.9.2) (1.6.0)\n",
            "Requirement already satisfied: joblib>=0.14 in /usr/local/lib/python3.10/dist-packages (from librosa==0.9.2) (1.4.2)\n",
            "Requirement already satisfied: decorator>=4.0.10 in /usr/local/lib/python3.10/dist-packages (from librosa==0.9.2) (4.4.2)\n",
            "Requirement already satisfied: resampy>=0.2.2 in /usr/local/lib/python3.10/dist-packages (from librosa==0.9.2) (0.4.3)\n",
            "Requirement already satisfied: numba>=0.45.1 in /usr/local/lib/python3.10/dist-packages (from librosa==0.9.2) (0.60.0)\n",
            "Requirement already satisfied: soundfile>=0.10.2 in /usr/local/lib/python3.10/dist-packages (from librosa==0.9.2) (0.13.0)\n",
            "Requirement already satisfied: pooch>=1.0 in /usr/local/lib/python3.10/dist-packages (from librosa==0.9.2) (1.8.2)\n",
            "Requirement already satisfied: packaging>=20.0 in /usr/local/lib/python3.10/dist-packages (from librosa==0.9.2) (24.2)\n",
            "Requirement already satisfied: llvmlite<0.44,>=0.43.0dev0 in /usr/local/lib/python3.10/dist-packages (from numba>=0.45.1->librosa==0.9.2) (0.43.0)\n",
            "Requirement already satisfied: platformdirs>=2.5.0 in /usr/local/lib/python3.10/dist-packages (from pooch>=1.0->librosa==0.9.2) (4.3.6)\n",
            "Requirement already satisfied: requests>=2.19.0 in /usr/local/lib/python3.10/dist-packages (from pooch>=1.0->librosa==0.9.2) (2.32.3)\n",
            "Requirement already satisfied: threadpoolctl>=3.1.0 in /usr/local/lib/python3.10/dist-packages (from scikit-learn>=0.19.1->librosa==0.9.2) (3.5.0)\n",
            "Requirement already satisfied: cffi>=1.0 in /usr/local/lib/python3.10/dist-packages (from soundfile>=0.10.2->librosa==0.9.2) (1.17.1)\n",
            "Requirement already satisfied: pycparser in /usr/local/lib/python3.10/dist-packages (from cffi>=1.0->soundfile>=0.10.2->librosa==0.9.2) (2.22)\n",
            "Requirement already satisfied: charset-normalizer<4,>=2 in /usr/local/lib/python3.10/dist-packages (from requests>=2.19.0->pooch>=1.0->librosa==0.9.2) (3.4.1)\n",
            "Requirement already satisfied: idna<4,>=2.5 in /usr/local/lib/python3.10/dist-packages (from requests>=2.19.0->pooch>=1.0->librosa==0.9.2) (3.10)\n",
            "Requirement already satisfied: urllib3<3,>=1.21.1 in /usr/local/lib/python3.10/dist-packages (from requests>=2.19.0->pooch>=1.0->librosa==0.9.2) (2.3.0)\n",
            "Requirement already satisfied: certifi>=2017.4.17 in /usr/local/lib/python3.10/dist-packages (from requests>=2.19.0->pooch>=1.0->librosa==0.9.2) (2024.12.14)\n",
            "librosa is already installed with the same version as the provided wheel. Use --force-reinstall to force an installation of the wheel.\n",
            "Requirement already satisfied: accelerate in /usr/local/lib/python3.10/dist-packages (from -r requirements.txt (line 5)) (1.2.1)\n",
            "Requirement already satisfied: asteroid==0.7.0 in /usr/local/lib/python3.10/dist-packages (from -r requirements.txt (line 6)) (0.7.0)\n",
            "Requirement already satisfied: audiomentations==0.24.0 in /usr/local/lib/python3.10/dist-packages (from -r requirements.txt (line 7)) (0.24.0)\n",
            "Requirement already satisfied: auraloss in /usr/local/lib/python3.10/dist-packages (from -r requirements.txt (line 8)) (0.4.0)\n",
            "Requirement already satisfied: beartype==0.14.1 in /usr/local/lib/python3.10/dist-packages (from -r requirements.txt (line 9)) (0.14.1)\n",
            "Requirement already satisfied: bitsandbytes in /usr/local/lib/python3.10/dist-packages (from -r requirements.txt (line 10)) (0.45.0)\n",
            "Requirement already satisfied: colorama in /usr/local/lib/python3.10/dist-packages (from -r requirements.txt (line 11)) (0.4.6)\n",
            "Requirement already satisfied: demucs==4.0.0 in /usr/local/lib/python3.10/dist-packages (from -r requirements.txt (line 12)) (4.0.0)\n",
            "Requirement already satisfied: einops==0.6.1 in /usr/local/lib/python3.10/dist-packages (from -r requirements.txt (line 13)) (0.6.1)\n",
            "Requirement already satisfied: fastapi==0.111.0 in /usr/local/lib/python3.10/dist-packages (from -r requirements.txt (line 14)) (0.111.0)\n",
            "Requirement already satisfied: gradio==4.38.1 in /usr/local/lib/python3.10/dist-packages (from -r requirements.txt (line 15)) (4.38.1)\n",
            "Requirement already satisfied: huggingface-hub>=0.23.0 in /usr/local/lib/python3.10/dist-packages (from -r requirements.txt (line 16)) (0.27.1)\n",
            "Requirement already satisfied: librosa==0.9.2 in /usr/local/lib/python3.10/dist-packages (from -r requirements.txt (line 17)) (0.9.2)\n",
            "Requirement already satisfied: lightning>=2.0.0 in /usr/local/lib/python3.10/dist-packages (from -r requirements.txt (line 18)) (2.5.0.post0)\n",
            "Requirement already satisfied: ml_collections in /usr/local/lib/python3.10/dist-packages (from -r requirements.txt (line 19)) (1.0.0)\n",
            "Requirement already satisfied: mido in /usr/local/lib/python3.10/dist-packages (from -r requirements.txt (line 20)) (1.3.3)\n",
            "Requirement already satisfied: omegaconf==2.2.3 in /usr/local/lib/python3.10/dist-packages (from -r requirements.txt (line 21)) (2.2.3)\n",
            "Requirement already satisfied: pedalboard~=0.8.1 in /usr/local/lib/python3.10/dist-packages (from -r requirements.txt (line 22)) (0.8.9)\n",
            "Requirement already satisfied: prodigyopt in /usr/local/lib/python3.10/dist-packages (from -r requirements.txt (line 23)) (1.1.1)\n",
            "Requirement already satisfied: protobuf==3.20.3 in /usr/local/lib/python3.10/dist-packages (from -r requirements.txt (line 24)) (3.20.3)\n",
            "Requirement already satisfied: psutil in /usr/local/lib/python3.10/dist-packages (from -r requirements.txt (line 25)) (5.9.5)\n",
            "Requirement already satisfied: rotary_embedding_torch==0.3.5 in /usr/local/lib/python3.10/dist-packages (from -r requirements.txt (line 26)) (0.3.5)\n",
            "Requirement already satisfied: samplerate in /usr/local/lib/python3.10/dist-packages (from -r requirements.txt (line 27)) (0.1.0)\n",
            "Requirement already satisfied: scipy in /usr/local/lib/python3.10/dist-packages (from -r requirements.txt (line 28)) (1.13.1)\n",
            "Requirement already satisfied: segmentation_models_pytorch==0.3.3 in /usr/local/lib/python3.10/dist-packages (from -r requirements.txt (line 29)) (0.3.3)\n",
            "Requirement already satisfied: soundfile in /usr/local/lib/python3.10/dist-packages (from -r requirements.txt (line 30)) (0.13.0)\n",
            "Requirement already satisfied: spafe==0.3.2 in /usr/local/lib/python3.10/dist-packages (from -r requirements.txt (line 31)) (0.3.2)\n",
            "Requirement already satisfied: timm==0.9.2 in /usr/local/lib/python3.10/dist-packages (from -r requirements.txt (line 32)) (0.9.2)\n",
            "Requirement already satisfied: torch_audiomentations in /usr/local/lib/python3.10/dist-packages (from -r requirements.txt (line 33)) (0.11.2)\n",
            "Requirement already satisfied: torch_log_wmse in /usr/local/lib/python3.10/dist-packages (from -r requirements.txt (line 34)) (0.2.9)\n",
            "Requirement already satisfied: torchmetrics==0.11.4 in /usr/local/lib/python3.10/dist-packages (from -r requirements.txt (line 35)) (0.11.4)\n",
            "Requirement already satisfied: torchseg in /usr/local/lib/python3.10/dist-packages (from -r requirements.txt (line 36)) (0.0.1a1)\n",
            "Requirement already satisfied: transformers~=4.35.0 in /usr/local/lib/python3.10/dist-packages (from -r requirements.txt (line 37)) (4.35.2)\n",
            "Requirement already satisfied: tqdm in /usr/local/lib/python3.10/dist-packages (from -r requirements.txt (line 38)) (4.67.1)\n",
            "Requirement already satisfied: PySide6 in /usr/local/lib/python3.10/dist-packages (from -r requirements.txt (line 44)) (6.8.1.1)\n",
            "Requirement already satisfied: PySide6-Fluent-Widgets in /usr/local/lib/python3.10/dist-packages (from -r requirements.txt (line 45)) (1.7.4)\n",
            "Requirement already satisfied: numpy>=1.16.4 in /usr/local/lib/python3.10/dist-packages (from asteroid==0.7.0->-r requirements.txt (line 6)) (1.26.4)\n",
            "Requirement already satisfied: torch>=2.0.0 in /usr/local/lib/python3.10/dist-packages (from asteroid==0.7.0->-r requirements.txt (line 6)) (2.5.1+cu121)\n",
            "Requirement already satisfied: asteroid-filterbanks>=0.4.0 in /usr/local/lib/python3.10/dist-packages (from asteroid==0.7.0->-r requirements.txt (line 6)) (0.4.0)\n",
            "Requirement already satisfied: PyYAML>=5.0 in /usr/local/lib/python3.10/dist-packages (from asteroid==0.7.0->-r requirements.txt (line 6)) (6.0.2)\n",
            "Requirement already satisfied: pandas>=0.23.4 in /usr/local/lib/python3.10/dist-packages (from asteroid==0.7.0->-r requirements.txt (line 6)) (2.2.2)\n",
            "Requirement already satisfied: pytorch-lightning>=2.0.0 in /usr/local/lib/python3.10/dist-packages (from asteroid==0.7.0->-r requirements.txt (line 6)) (2.5.0.post0)\n",
            "Requirement already satisfied: torchaudio>=0.5.0 in /usr/local/lib/python3.10/dist-packages (from asteroid==0.7.0->-r requirements.txt (line 6)) (2.5.1+cu121)\n",
            "Requirement already satisfied: pb-bss-eval>=0.0.2 in /usr/local/lib/python3.10/dist-packages (from asteroid==0.7.0->-r requirements.txt (line 6)) (0.0.2)\n",
            "Requirement already satisfied: torch-stoi>=0.1.2 in /usr/local/lib/python3.10/dist-packages (from asteroid==0.7.0->-r requirements.txt (line 6)) (0.2.3)\n",
            "Requirement already satisfied: torch-optimizer<0.2.0,>=0.0.1a12 in /usr/local/lib/python3.10/dist-packages (from asteroid==0.7.0->-r requirements.txt (line 6)) (0.1.0)\n",
            "Requirement already satisfied: julius in /usr/local/lib/python3.10/dist-packages (from asteroid==0.7.0->-r requirements.txt (line 6)) (0.2.7)\n",
            "Requirement already satisfied: dora-search in /usr/local/lib/python3.10/dist-packages (from demucs==4.0.0->-r requirements.txt (line 12)) (0.1.12)\n",
            "Requirement already satisfied: diffq>=0.2.1 in /usr/local/lib/python3.10/dist-packages (from demucs==4.0.0->-r requirements.txt (line 12)) (0.2.4)\n",
            "Requirement already satisfied: lameenc>=1.2 in /usr/local/lib/python3.10/dist-packages (from demucs==4.0.0->-r requirements.txt (line 12)) (1.8.1)\n",
            "Requirement already satisfied: openunmix in /usr/local/lib/python3.10/dist-packages (from demucs==4.0.0->-r requirements.txt (line 12)) (1.3.0)\n",
            "Requirement already satisfied: starlette<0.38.0,>=0.37.2 in /usr/local/lib/python3.10/dist-packages (from fastapi==0.111.0->-r requirements.txt (line 14)) (0.37.2)\n",
            "Requirement already satisfied: pydantic!=1.8,!=1.8.1,!=2.0.0,!=2.0.1,!=2.1.0,<3.0.0,>=1.7.4 in /usr/local/lib/python3.10/dist-packages (from fastapi==0.111.0->-r requirements.txt (line 14)) (2.10.4)\n",
            "Requirement already satisfied: typing-extensions>=4.8.0 in /usr/local/lib/python3.10/dist-packages (from fastapi==0.111.0->-r requirements.txt (line 14)) (4.12.2)\n",
            "Requirement already satisfied: fastapi-cli>=0.0.2 in /usr/local/lib/python3.10/dist-packages (from fastapi==0.111.0->-r requirements.txt (line 14)) (0.0.7)\n",
            "Requirement already satisfied: httpx>=0.23.0 in /usr/local/lib/python3.10/dist-packages (from fastapi==0.111.0->-r requirements.txt (line 14)) (0.28.1)\n",
            "Requirement already satisfied: jinja2>=2.11.2 in /usr/local/lib/python3.10/dist-packages (from fastapi==0.111.0->-r requirements.txt (line 14)) (3.1.5)\n",
            "Requirement already satisfied: python-multipart>=0.0.7 in /usr/local/lib/python3.10/dist-packages (from fastapi==0.111.0->-r requirements.txt (line 14)) (0.0.20)\n",
            "Requirement already satisfied: ujson!=4.0.2,!=4.1.0,!=4.2.0,!=4.3.0,!=5.0.0,!=5.1.0,>=4.0.1 in /usr/local/lib/python3.10/dist-packages (from fastapi==0.111.0->-r requirements.txt (line 14)) (5.10.0)\n",
            "Requirement already satisfied: orjson>=3.2.1 in /usr/local/lib/python3.10/dist-packages (from fastapi==0.111.0->-r requirements.txt (line 14)) (3.10.13)\n",
            "Requirement already satisfied: email_validator>=2.0.0 in /usr/local/lib/python3.10/dist-packages (from fastapi==0.111.0->-r requirements.txt (line 14)) (2.2.0)\n",
            "Requirement already satisfied: uvicorn>=0.12.0 in /usr/local/lib/python3.10/dist-packages (from uvicorn[standard]>=0.12.0->fastapi==0.111.0->-r requirements.txt (line 14)) (0.34.0)\n",
            "Requirement already satisfied: aiofiles<24.0,>=22.0 in /usr/local/lib/python3.10/dist-packages (from gradio==4.38.1->-r requirements.txt (line 15)) (23.2.1)\n",
            "Requirement already satisfied: altair<6.0,>=5.0 in /usr/local/lib/python3.10/dist-packages (from gradio==4.38.1->-r requirements.txt (line 15)) (5.5.0)\n",
            "Requirement already satisfied: ffmpy in /usr/local/lib/python3.10/dist-packages (from gradio==4.38.1->-r requirements.txt (line 15)) (0.5.0)\n",
            "Requirement already satisfied: gradio-client==1.1.0 in /usr/local/lib/python3.10/dist-packages (from gradio==4.38.1->-r requirements.txt (line 15)) (1.1.0)\n",
            "Requirement already satisfied: importlib-resources<7.0,>=1.3 in /usr/local/lib/python3.10/dist-packages (from gradio==4.38.1->-r requirements.txt (line 15)) (6.5.2)\n",
            "Requirement already satisfied: markupsafe~=2.0 in /usr/local/lib/python3.10/dist-packages (from gradio==4.38.1->-r requirements.txt (line 15)) (2.1.5)\n",
            "Requirement already satisfied: matplotlib~=3.0 in /usr/local/lib/python3.10/dist-packages (from gradio==4.38.1->-r requirements.txt (line 15)) (3.10.0)\n",
            "Requirement already satisfied: packaging in /usr/local/lib/python3.10/dist-packages (from gradio==4.38.1->-r requirements.txt (line 15)) (24.2)\n",
            "Requirement already satisfied: pillow<11.0,>=8.0 in /usr/local/lib/python3.10/dist-packages (from gradio==4.38.1->-r requirements.txt (line 15)) (10.4.0)\n",
            "Requirement already satisfied: pydub in /usr/local/lib/python3.10/dist-packages (from gradio==4.38.1->-r requirements.txt (line 15)) (0.25.1)\n",
            "Requirement already satisfied: ruff>=0.2.2 in /usr/local/lib/python3.10/dist-packages (from gradio==4.38.1->-r requirements.txt (line 15)) (0.9.1)\n",
            "Requirement already satisfied: semantic-version~=2.0 in /usr/local/lib/python3.10/dist-packages (from gradio==4.38.1->-r requirements.txt (line 15)) (2.10.0)\n",
            "Requirement already satisfied: tomlkit==0.12.0 in /usr/local/lib/python3.10/dist-packages (from gradio==4.38.1->-r requirements.txt (line 15)) (0.12.0)\n",
            "Requirement already satisfied: typer<1.0,>=0.12 in /usr/local/lib/python3.10/dist-packages (from gradio==4.38.1->-r requirements.txt (line 15)) (0.15.1)\n",
            "Requirement already satisfied: urllib3~=2.0 in /usr/local/lib/python3.10/dist-packages (from gradio==4.38.1->-r requirements.txt (line 15)) (2.3.0)\n",
            "Requirement already satisfied: audioread>=2.1.9 in /usr/local/lib/python3.10/dist-packages (from librosa==0.9.2->-r requirements.txt (line 17)) (3.0.1)\n",
            "Requirement already satisfied: scikit-learn>=0.19.1 in /usr/local/lib/python3.10/dist-packages (from librosa==0.9.2->-r requirements.txt (line 17)) (1.6.0)\n",
            "Requirement already satisfied: joblib>=0.14 in /usr/local/lib/python3.10/dist-packages (from librosa==0.9.2->-r requirements.txt (line 17)) (1.4.2)\n",
            "Requirement already satisfied: decorator>=4.0.10 in /usr/local/lib/python3.10/dist-packages (from librosa==0.9.2->-r requirements.txt (line 17)) (4.4.2)\n",
            "Requirement already satisfied: resampy>=0.2.2 in /usr/local/lib/python3.10/dist-packages (from librosa==0.9.2->-r requirements.txt (line 17)) (0.4.3)\n",
            "Requirement already satisfied: numba>=0.45.1 in /usr/local/lib/python3.10/dist-packages (from librosa==0.9.2->-r requirements.txt (line 17)) (0.60.0)\n",
            "Requirement already satisfied: pooch>=1.0 in /usr/local/lib/python3.10/dist-packages (from librosa==0.9.2->-r requirements.txt (line 17)) (1.8.2)\n",
            "Requirement already satisfied: antlr4-python3-runtime==4.9.* in /usr/local/lib/python3.10/dist-packages (from omegaconf==2.2.3->-r requirements.txt (line 21)) (4.9.3)\n",
            "Requirement already satisfied: torchvision>=0.5.0 in /usr/local/lib/python3.10/dist-packages (from segmentation_models_pytorch==0.3.3->-r requirements.txt (line 29)) (0.20.1+cu121)\n",
            "Requirement already satisfied: pretrainedmodels==0.7.4 in /usr/local/lib/python3.10/dist-packages (from segmentation_models_pytorch==0.3.3->-r requirements.txt (line 29)) (0.7.4)\n",
            "Requirement already satisfied: efficientnet-pytorch==0.7.1 in /usr/local/lib/python3.10/dist-packages (from segmentation_models_pytorch==0.3.3->-r requirements.txt (line 29)) (0.7.1)\n",
            "Requirement already satisfied: safetensors in /usr/local/lib/python3.10/dist-packages (from timm==0.9.2->-r requirements.txt (line 32)) (0.5.1)\n",
            "Requirement already satisfied: fsspec in /usr/local/lib/python3.10/dist-packages (from gradio-client==1.1.0->gradio==4.38.1->-r requirements.txt (line 15)) (2024.10.0)\n",
            "Requirement already satisfied: websockets<12.0,>=10.0 in /usr/local/lib/python3.10/dist-packages (from gradio-client==1.1.0->gradio==4.38.1->-r requirements.txt (line 15)) (11.0.3)\n",
            "Requirement already satisfied: munch in /usr/local/lib/python3.10/dist-packages (from pretrainedmodels==0.7.4->segmentation_models_pytorch==0.3.3->-r requirements.txt (line 29)) (4.0.0)\n",
            "Requirement already satisfied: filelock in /usr/local/lib/python3.10/dist-packages (from huggingface-hub>=0.23.0->-r requirements.txt (line 16)) (3.16.1)\n",
            "Requirement already satisfied: requests in /usr/local/lib/python3.10/dist-packages (from huggingface-hub>=0.23.0->-r requirements.txt (line 16)) (2.32.3)\n",
            "Requirement already satisfied: lightning-utilities<2.0,>=0.10.0 in /usr/local/lib/python3.10/dist-packages (from lightning>=2.0.0->-r requirements.txt (line 18)) (0.11.9)\n",
            "Requirement already satisfied: absl-py in /usr/local/lib/python3.10/dist-packages (from ml_collections->-r requirements.txt (line 19)) (1.4.0)\n",
            "Requirement already satisfied: six in /usr/local/lib/python3.10/dist-packages (from ml_collections->-r requirements.txt (line 19)) (1.17.0)\n",
            "Requirement already satisfied: cffi>=1.0.0 in /usr/local/lib/python3.10/dist-packages (from samplerate->-r requirements.txt (line 27)) (1.17.1)\n",
            "Requirement already satisfied: torch-pitch-shift>=1.2.2 in /usr/local/lib/python3.10/dist-packages (from torch_audiomentations->-r requirements.txt (line 33)) (1.2.5)\n",
            "Requirement already satisfied: regex!=2019.12.17 in /usr/local/lib/python3.10/dist-packages (from transformers~=4.35.0->-r requirements.txt (line 37)) (2024.11.6)\n",
            "Requirement already satisfied: tokenizers<0.19,>=0.14 in /usr/local/lib/python3.10/dist-packages (from transformers~=4.35.0->-r requirements.txt (line 37)) (0.15.2)\n",
            "Requirement already satisfied: shiboken6==6.8.1.1 in /usr/local/lib/python3.10/dist-packages (from PySide6->-r requirements.txt (line 44)) (6.8.1.1)\n",
            "Requirement already satisfied: PySide6-Essentials==6.8.1.1 in /usr/local/lib/python3.10/dist-packages (from PySide6->-r requirements.txt (line 44)) (6.8.1.1)\n",
            "Requirement already satisfied: PySide6-Addons==6.8.1.1 in /usr/local/lib/python3.10/dist-packages (from PySide6->-r requirements.txt (line 44)) (6.8.1.1)\n",
            "Requirement already satisfied: PySideSix-Frameless-Window>=0.4.0 in /usr/local/lib/python3.10/dist-packages (from PySide6-Fluent-Widgets->-r requirements.txt (line 45)) (0.4.5)\n",
            "Requirement already satisfied: darkdetect in /usr/local/lib/python3.10/dist-packages (from PySide6-Fluent-Widgets->-r requirements.txt (line 45)) (0.8.0)\n",
            "Requirement already satisfied: jsonschema>=3.0 in /usr/local/lib/python3.10/dist-packages (from altair<6.0,>=5.0->gradio==4.38.1->-r requirements.txt (line 15)) (4.23.0)\n",
            "Requirement already satisfied: narwhals>=1.14.2 in /usr/local/lib/python3.10/dist-packages (from altair<6.0,>=5.0->gradio==4.38.1->-r requirements.txt (line 15)) (1.21.1)\n",
            "Requirement already satisfied: pycparser in /usr/local/lib/python3.10/dist-packages (from cffi>=1.0.0->samplerate->-r requirements.txt (line 27)) (2.22)\n",
            "Requirement already satisfied: Cython in /usr/local/lib/python3.10/dist-packages (from diffq>=0.2.1->demucs==4.0.0->-r requirements.txt (line 12)) (3.0.11)\n",
            "Requirement already satisfied: dnspython>=2.0.0 in /usr/local/lib/python3.10/dist-packages (from email_validator>=2.0.0->fastapi==0.111.0->-r requirements.txt (line 14)) (2.7.0)\n",
            "Requirement already satisfied: idna>=2.0.0 in /usr/local/lib/python3.10/dist-packages (from email_validator>=2.0.0->fastapi==0.111.0->-r requirements.txt (line 14)) (3.10)\n",
            "Requirement already satisfied: rich-toolkit>=0.11.1 in /usr/local/lib/python3.10/dist-packages (from fastapi-cli>=0.0.2->fastapi==0.111.0->-r requirements.txt (line 14)) (0.13.2)\n",
            "Requirement already satisfied: aiohttp!=4.0.0a0,!=4.0.0a1 in /usr/local/lib/python3.10/dist-packages (from fsspec[http]<2026.0,>=2022.5.0->lightning>=2.0.0->-r requirements.txt (line 18)) (3.11.11)\n",
            "Requirement already satisfied: anyio in /usr/local/lib/python3.10/dist-packages (from httpx>=0.23.0->fastapi==0.111.0->-r requirements.txt (line 14)) (3.7.1)\n",
            "Requirement already satisfied: certifi in /usr/local/lib/python3.10/dist-packages (from httpx>=0.23.0->fastapi==0.111.0->-r requirements.txt (line 14)) (2024.12.14)\n",
            "Requirement already satisfied: httpcore==1.* in /usr/local/lib/python3.10/dist-packages (from httpx>=0.23.0->fastapi==0.111.0->-r requirements.txt (line 14)) (1.0.7)\n",
            "Requirement already satisfied: h11<0.15,>=0.13 in /usr/local/lib/python3.10/dist-packages (from httpcore==1.*->httpx>=0.23.0->fastapi==0.111.0->-r requirements.txt (line 14)) (0.14.0)\n",
            "Requirement already satisfied: setuptools in /usr/local/lib/python3.10/dist-packages (from lightning-utilities<2.0,>=0.10.0->lightning>=2.0.0->-r requirements.txt (line 18)) (75.8.0)\n",
            "Requirement already satisfied: contourpy>=1.0.1 in /usr/local/lib/python3.10/dist-packages (from matplotlib~=3.0->gradio==4.38.1->-r requirements.txt (line 15)) (1.3.1)\n",
            "Requirement already satisfied: cycler>=0.10 in /usr/local/lib/python3.10/dist-packages (from matplotlib~=3.0->gradio==4.38.1->-r requirements.txt (line 15)) (0.12.1)\n",
            "Requirement already satisfied: fonttools>=4.22.0 in /usr/local/lib/python3.10/dist-packages (from matplotlib~=3.0->gradio==4.38.1->-r requirements.txt (line 15)) (4.55.3)\n",
            "Requirement already satisfied: kiwisolver>=1.3.1 in /usr/local/lib/python3.10/dist-packages (from matplotlib~=3.0->gradio==4.38.1->-r requirements.txt (line 15)) (1.4.8)\n",
            "Requirement already satisfied: pyparsing>=2.3.1 in /usr/local/lib/python3.10/dist-packages (from matplotlib~=3.0->gradio==4.38.1->-r requirements.txt (line 15)) (3.2.1)\n",
            "Requirement already satisfied: python-dateutil>=2.7 in /usr/local/lib/python3.10/dist-packages (from matplotlib~=3.0->gradio==4.38.1->-r requirements.txt (line 15)) (2.8.2)\n",
            "Requirement already satisfied: llvmlite<0.44,>=0.43.0dev0 in /usr/local/lib/python3.10/dist-packages (from numba>=0.45.1->librosa==0.9.2->-r requirements.txt (line 17)) (0.43.0)\n",
            "Requirement already satisfied: pytz>=2020.1 in /usr/local/lib/python3.10/dist-packages (from pandas>=0.23.4->asteroid==0.7.0->-r requirements.txt (line 6)) (2024.2)\n",
            "Requirement already satisfied: tzdata>=2022.7 in /usr/local/lib/python3.10/dist-packages (from pandas>=0.23.4->asteroid==0.7.0->-r requirements.txt (line 6)) (2024.2)\n",
            "Requirement already satisfied: cached-property in /usr/local/lib/python3.10/dist-packages (from pb-bss-eval>=0.0.2->asteroid==0.7.0->-r requirements.txt (line 6)) (2.0.1)\n",
            "Requirement already satisfied: pystoi in /usr/local/lib/python3.10/dist-packages (from pb-bss-eval>=0.0.2->asteroid==0.7.0->-r requirements.txt (line 6)) (0.4.1)\n",
            "Requirement already satisfied: mir-eval in /usr/local/lib/python3.10/dist-packages (from pb-bss-eval>=0.0.2->asteroid==0.7.0->-r requirements.txt (line 6)) (0.7)\n",
            "Requirement already satisfied: pesq in /usr/local/lib/python3.10/dist-packages (from pb-bss-eval>=0.0.2->asteroid==0.7.0->-r requirements.txt (line 6)) (0.0.4)\n",
            "Requirement already satisfied: platformdirs>=2.5.0 in /usr/local/lib/python3.10/dist-packages (from pooch>=1.0->librosa==0.9.2->-r requirements.txt (line 17)) (4.3.6)\n",
            "Requirement already satisfied: annotated-types>=0.6.0 in /usr/local/lib/python3.10/dist-packages (from pydantic!=1.8,!=1.8.1,!=2.0.0,!=2.0.1,!=2.1.0,<3.0.0,>=1.7.4->fastapi==0.111.0->-r requirements.txt (line 14)) (0.7.0)\n",
            "Requirement already satisfied: pydantic-core==2.27.2 in /usr/local/lib/python3.10/dist-packages (from pydantic!=1.8,!=1.8.1,!=2.0.0,!=2.0.1,!=2.1.0,<3.0.0,>=1.7.4->fastapi==0.111.0->-r requirements.txt (line 14)) (2.27.2)\n",
            "Requirement already satisfied: charset-normalizer<4,>=2 in /usr/local/lib/python3.10/dist-packages (from requests->huggingface-hub>=0.23.0->-r requirements.txt (line 16)) (3.4.1)\n",
            "Requirement already satisfied: threadpoolctl>=3.1.0 in /usr/local/lib/python3.10/dist-packages (from scikit-learn>=0.19.1->librosa==0.9.2->-r requirements.txt (line 17)) (3.5.0)\n",
            "Requirement already satisfied: networkx in /usr/local/lib/python3.10/dist-packages (from torch>=2.0.0->asteroid==0.7.0->-r requirements.txt (line 6)) (3.4.2)\n",
            "Requirement already satisfied: sympy==1.13.1 in /usr/local/lib/python3.10/dist-packages (from torch>=2.0.0->asteroid==0.7.0->-r requirements.txt (line 6)) (1.13.1)\n",
            "Requirement already satisfied: mpmath<1.4,>=1.1.0 in /usr/local/lib/python3.10/dist-packages (from sympy==1.13.1->torch>=2.0.0->asteroid==0.7.0->-r requirements.txt (line 6)) (1.3.0)\n",
            "Requirement already satisfied: pytorch-ranger>=0.1.1 in /usr/local/lib/python3.10/dist-packages (from torch-optimizer<0.2.0,>=0.0.1a12->asteroid==0.7.0->-r requirements.txt (line 6)) (0.1.1)\n",
            "Requirement already satisfied: primePy>=1.3 in /usr/local/lib/python3.10/dist-packages (from torch-pitch-shift>=1.2.2->torch_audiomentations->-r requirements.txt (line 33)) (1.3)\n",
            "Requirement already satisfied: click>=8.0.0 in /usr/local/lib/python3.10/dist-packages (from typer<1.0,>=0.12->gradio==4.38.1->-r requirements.txt (line 15)) (8.1.8)\n",
            "Requirement already satisfied: shellingham>=1.3.0 in /usr/local/lib/python3.10/dist-packages (from typer<1.0,>=0.12->gradio==4.38.1->-r requirements.txt (line 15)) (1.5.4)\n",
            "Requirement already satisfied: rich>=10.11.0 in /usr/local/lib/python3.10/dist-packages (from typer<1.0,>=0.12->gradio==4.38.1->-r requirements.txt (line 15)) (13.9.4)\n",
            "Requirement already satisfied: httptools>=0.6.3 in /usr/local/lib/python3.10/dist-packages (from uvicorn[standard]>=0.12.0->fastapi==0.111.0->-r requirements.txt (line 14)) (0.6.4)\n",
            "Requirement already satisfied: python-dotenv>=0.13 in /usr/local/lib/python3.10/dist-packages (from uvicorn[standard]>=0.12.0->fastapi==0.111.0->-r requirements.txt (line 14)) (1.0.1)\n",
            "Requirement already satisfied: uvloop!=0.15.0,!=0.15.1,>=0.14.0 in /usr/local/lib/python3.10/dist-packages (from uvicorn[standard]>=0.12.0->fastapi==0.111.0->-r requirements.txt (line 14)) (0.21.0)\n",
            "Requirement already satisfied: watchfiles>=0.13 in /usr/local/lib/python3.10/dist-packages (from uvicorn[standard]>=0.12.0->fastapi==0.111.0->-r requirements.txt (line 14)) (1.0.4)\n",
            "Requirement already satisfied: retrying in /usr/local/lib/python3.10/dist-packages (from dora-search->demucs==4.0.0->-r requirements.txt (line 12)) (1.3.4)\n",
            "Requirement already satisfied: submitit in /usr/local/lib/python3.10/dist-packages (from dora-search->demucs==4.0.0->-r requirements.txt (line 12)) (1.5.2)\n",
            "Requirement already satisfied: treetable in /usr/local/lib/python3.10/dist-packages (from dora-search->demucs==4.0.0->-r requirements.txt (line 12)) (0.2.5)\n",
            "Requirement already satisfied: aiohappyeyeballs>=2.3.0 in /usr/local/lib/python3.10/dist-packages (from aiohttp!=4.0.0a0,!=4.0.0a1->fsspec[http]<2026.0,>=2022.5.0->lightning>=2.0.0->-r requirements.txt (line 18)) (2.4.4)\n",
            "Requirement already satisfied: aiosignal>=1.1.2 in /usr/local/lib/python3.10/dist-packages (from aiohttp!=4.0.0a0,!=4.0.0a1->fsspec[http]<2026.0,>=2022.5.0->lightning>=2.0.0->-r requirements.txt (line 18)) (1.3.2)\n",
            "Requirement already satisfied: async-timeout<6.0,>=4.0 in /usr/local/lib/python3.10/dist-packages (from aiohttp!=4.0.0a0,!=4.0.0a1->fsspec[http]<2026.0,>=2022.5.0->lightning>=2.0.0->-r requirements.txt (line 18)) (4.0.3)\n",
            "Requirement already satisfied: attrs>=17.3.0 in /usr/local/lib/python3.10/dist-packages (from aiohttp!=4.0.0a0,!=4.0.0a1->fsspec[http]<2026.0,>=2022.5.0->lightning>=2.0.0->-r requirements.txt (line 18)) (24.3.0)\n",
            "Requirement already satisfied: frozenlist>=1.1.1 in /usr/local/lib/python3.10/dist-packages (from aiohttp!=4.0.0a0,!=4.0.0a1->fsspec[http]<2026.0,>=2022.5.0->lightning>=2.0.0->-r requirements.txt (line 18)) (1.5.0)\n",
            "Requirement already satisfied: multidict<7.0,>=4.5 in /usr/local/lib/python3.10/dist-packages (from aiohttp!=4.0.0a0,!=4.0.0a1->fsspec[http]<2026.0,>=2022.5.0->lightning>=2.0.0->-r requirements.txt (line 18)) (6.1.0)\n",
            "Requirement already satisfied: propcache>=0.2.0 in /usr/local/lib/python3.10/dist-packages (from aiohttp!=4.0.0a0,!=4.0.0a1->fsspec[http]<2026.0,>=2022.5.0->lightning>=2.0.0->-r requirements.txt (line 18)) (0.2.1)\n",
            "Requirement already satisfied: yarl<2.0,>=1.17.0 in /usr/local/lib/python3.10/dist-packages (from aiohttp!=4.0.0a0,!=4.0.0a1->fsspec[http]<2026.0,>=2022.5.0->lightning>=2.0.0->-r requirements.txt (line 18)) (1.18.3)\n",
            "Requirement already satisfied: sniffio>=1.1 in /usr/local/lib/python3.10/dist-packages (from anyio->httpx>=0.23.0->fastapi==0.111.0->-r requirements.txt (line 14)) (1.3.1)\n",
            "Requirement already satisfied: exceptiongroup in /usr/local/lib/python3.10/dist-packages (from anyio->httpx>=0.23.0->fastapi==0.111.0->-r requirements.txt (line 14)) (1.2.2)\n",
            "Requirement already satisfied: jsonschema-specifications>=2023.03.6 in /usr/local/lib/python3.10/dist-packages (from jsonschema>=3.0->altair<6.0,>=5.0->gradio==4.38.1->-r requirements.txt (line 15)) (2024.10.1)\n",
            "Requirement already satisfied: referencing>=0.28.4 in /usr/local/lib/python3.10/dist-packages (from jsonschema>=3.0->altair<6.0,>=5.0->gradio==4.38.1->-r requirements.txt (line 15)) (0.35.1)\n",
            "Requirement already satisfied: rpds-py>=0.7.1 in /usr/local/lib/python3.10/dist-packages (from jsonschema>=3.0->altair<6.0,>=5.0->gradio==4.38.1->-r requirements.txt (line 15)) (0.22.3)\n",
            "Requirement already satisfied: markdown-it-py>=2.2.0 in /usr/local/lib/python3.10/dist-packages (from rich>=10.11.0->typer<1.0,>=0.12->gradio==4.38.1->-r requirements.txt (line 15)) (3.0.0)\n",
            "Requirement already satisfied: pygments<3.0.0,>=2.13.0 in /usr/local/lib/python3.10/dist-packages (from rich>=10.11.0->typer<1.0,>=0.12->gradio==4.38.1->-r requirements.txt (line 15)) (2.18.0)\n",
            "Requirement already satisfied: future in /usr/local/lib/python3.10/dist-packages (from mir-eval->pb-bss-eval>=0.0.2->asteroid==0.7.0->-r requirements.txt (line 6)) (1.0.0)\n",
            "Requirement already satisfied: cloudpickle>=1.2.1 in /usr/local/lib/python3.10/dist-packages (from submitit->dora-search->demucs==4.0.0->-r requirements.txt (line 12)) (3.1.0)\n",
            "Requirement already satisfied: mdurl~=0.1 in /usr/local/lib/python3.10/dist-packages (from markdown-it-py>=2.2.0->rich>=10.11.0->typer<1.0,>=0.12->gradio==4.38.1->-r requirements.txt (line 15)) (0.1.2)\n"
          ]
        }
      ],
      "source": [
        "#@title Clone repository and install requirements\n",
        "#@markdown # Clone repository and install requirements\n",
        "#@markdown\n",
        "#@markdown ### You may need to rerun this cell for a few times\n",
        "#@markdown\n",
        "\n",
        "# Clone the repository\n",
        "%cd /content\n",
        "!git clone https://github.com/SUC-DriverOld/MSST-WebUI.git\n",
        "%cd /content/MSST-WebUI\n",
        "\n",
        "# Upgrade pip and setuptools\n",
        "%pip install --upgrade pip setuptools\n",
        "\n",
        "# Install torch and other requirements\n",
        "%pip install torch torchvision torchaudio --index-url https://download.pytorch.org/whl/cu121\n",
        "%pip install tools/webUI_for_clouds/librosa-0.9.2-py3-none-any.whl\n",
        "%pip install -r requirements.txt --only-binary=samplerate\n",
        "\n",
        "# Copy cloud webui files to the root directory\n",
        "!cp tools/webUI_for_clouds/webUI_for_clouds.py .\n",
        "!cp tools/webUI_for_clouds/download_models.py ."
      ]
    },
    {
      "cell_type": "code",
      "execution_count": 2,
      "metadata": {
        "id": "7dLvlGPCkkNw",
        "outputId": "cf077a03-2150-4110-b36e-60b000d11b09",
        "colab": {
          "base_uri": "https://localhost:8080/"
        }
      },
      "outputs": [
        {
          "output_type": "stream",
          "name": "stdout",
          "text": [
            "--2025-01-14 11:46:42--  https://huggingface.co/Sucial/MSST-WebUI/resolve/main/SOME_weights/model_steps_64000_simplified.ckpt\n",
            "Resolving huggingface.co (huggingface.co)... 3.171.171.6, 3.171.171.128, 3.171.171.65, ...\n",
            "Connecting to huggingface.co (huggingface.co)|3.171.171.6|:443... connected.\n",
            "HTTP request sent, awaiting response... 302 Found\n",
            "Location: https://cdn-lfs-us-1.hf.co/repos/0e/15/0e159d2a04ccab15d8d8e1f184ffbe6cf2f77fb4a01915bea5dc301a76423516/3a246c7063ec2856097004dcefa2093a8b6ccff7a6cde1cd49e8f3f227ede50e?response-content-disposition=inline%3B+filename*%3DUTF-8%27%27model_steps_64000_simplified.ckpt%3B+filename%3D%22model_steps_64000_simplified.ckpt%22%3B&Expires=1737113713&Policy=eyJTdGF0ZW1lbnQiOlt7IkNvbmRpdGlvbiI6eyJEYXRlTGVzc1RoYW4iOnsiQVdTOkVwb2NoVGltZSI6MTczNzExMzcxM319LCJSZXNvdXJjZSI6Imh0dHBzOi8vY2RuLWxmcy11cy0xLmhmLmNvL3JlcG9zLzBlLzE1LzBlMTU5ZDJhMDRjY2FiMTVkOGQ4ZTFmMTg0ZmZiZTZjZjJmNzdmYjRhMDE5MTViZWE1ZGMzMDFhNzY0MjM1MTYvM2EyNDZjNzA2M2VjMjg1NjA5NzAwNGRjZWZhMjA5M2E4YjZjY2ZmN2E2Y2RlMWNkNDllOGYzZjIyN2VkZTUwZT9yZXNwb25zZS1jb250ZW50LWRpc3Bvc2l0aW9uPSoifV19&Signature=e-We9080QcIVJjhkcdybQjLnEsNZMDbzVTc9VGQn%7EULelR0btMfFidM-zQOAjitxNErSwsTvsTPO-y03deFPTqL9qQ-HKC3TpLxbh2Z1AITuO1Bg88jIEkl4mRAT22sXJuvH4xDvdRzXNggTYDlzTUU%7EPa8AbG1QFzbnHuQKC4KoXoAgnCUCo5gDJ0m4knV-f0hf5-qMCOgMPNu4BVRhjISEjJpmcR84cMXYQ-7O6Ydj83F06cGlflsnp-XrRNnGJ93t7oyp5xqxhgYf-3oRiBHF%7E6McT91oiCeFb1ZbrOx7lRNDYWsyS3ZbbnRCoBa6bZTGYZQueJCe0lcjHz%7EzSQ__&Key-Pair-Id=K24J24Z295AEI9 [following]\n",
            "--2025-01-14 11:46:42--  https://cdn-lfs-us-1.hf.co/repos/0e/15/0e159d2a04ccab15d8d8e1f184ffbe6cf2f77fb4a01915bea5dc301a76423516/3a246c7063ec2856097004dcefa2093a8b6ccff7a6cde1cd49e8f3f227ede50e?response-content-disposition=inline%3B+filename*%3DUTF-8%27%27model_steps_64000_simplified.ckpt%3B+filename%3D%22model_steps_64000_simplified.ckpt%22%3B&Expires=1737113713&Policy=eyJTdGF0ZW1lbnQiOlt7IkNvbmRpdGlvbiI6eyJEYXRlTGVzc1RoYW4iOnsiQVdTOkVwb2NoVGltZSI6MTczNzExMzcxM319LCJSZXNvdXJjZSI6Imh0dHBzOi8vY2RuLWxmcy11cy0xLmhmLmNvL3JlcG9zLzBlLzE1LzBlMTU5ZDJhMDRjY2FiMTVkOGQ4ZTFmMTg0ZmZiZTZjZjJmNzdmYjRhMDE5MTViZWE1ZGMzMDFhNzY0MjM1MTYvM2EyNDZjNzA2M2VjMjg1NjA5NzAwNGRjZWZhMjA5M2E4YjZjY2ZmN2E2Y2RlMWNkNDllOGYzZjIyN2VkZTUwZT9yZXNwb25zZS1jb250ZW50LWRpc3Bvc2l0aW9uPSoifV19&Signature=e-We9080QcIVJjhkcdybQjLnEsNZMDbzVTc9VGQn%7EULelR0btMfFidM-zQOAjitxNErSwsTvsTPO-y03deFPTqL9qQ-HKC3TpLxbh2Z1AITuO1Bg88jIEkl4mRAT22sXJuvH4xDvdRzXNggTYDlzTUU%7EPa8AbG1QFzbnHuQKC4KoXoAgnCUCo5gDJ0m4knV-f0hf5-qMCOgMPNu4BVRhjISEjJpmcR84cMXYQ-7O6Ydj83F06cGlflsnp-XrRNnGJ93t7oyp5xqxhgYf-3oRiBHF%7E6McT91oiCeFb1ZbrOx7lRNDYWsyS3ZbbnRCoBa6bZTGYZQueJCe0lcjHz%7EzSQ__&Key-Pair-Id=K24J24Z295AEI9\n",
            "Resolving cdn-lfs-us-1.hf.co (cdn-lfs-us-1.hf.co)... 18.164.78.6, 18.164.78.46, 18.164.78.17, ...\n",
            "Connecting to cdn-lfs-us-1.hf.co (cdn-lfs-us-1.hf.co)|18.164.78.6|:443... connected.\n",
            "HTTP request sent, awaiting response... 200 OK\n",
            "Length: 471060793 (449M) [binary/octet-stream]\n",
            "Saving to: ‘/content/MSST-WebUI/tools/SOME_weights/model_steps_64000_simplified.ckpt’\n",
            "\n",
            "/content/MSST-WebUI 100%[===================>] 449.24M  41.0MB/s    in 11s     \n",
            "\n",
            "2025-01-14 11:46:53 (40.8 MB/s) - ‘/content/MSST-WebUI/tools/SOME_weights/model_steps_64000_simplified.ckpt’ saved [471060793/471060793]\n",
            "\n"
          ]
        }
      ],
      "source": [
        "#@title [Optional] Download SOME weights if needed\n",
        "#@markdown # Download SOME weights if needed\n",
        "#@markdown\n",
        "#@markdown ### If you want to use \"Vocals to MIDI\", download the weights.\n",
        "#@markdown\n",
        "#@markdown ### \"Vocals to MIDI\" use project: [SOME](https://github.com/openvpi/SOME/).\n",
        "#@markdown\n",
        "\n",
        "!wget https://huggingface.co/Sucial/MSST-WebUI/resolve/main/SOME_weights/model_steps_64000_simplified.ckpt -O /content/MSST-WebUI/tools/SOME_weights/model_steps_64000_simplified.ckpt"
      ]
    },
    {
      "cell_type": "code",
      "execution_count": 3,
      "metadata": {
        "id": "-QScDyfokkNw",
        "outputId": "b972d76e-06d1-4d0a-8d36-d5b9e504cb3d",
        "colab": {
          "base_uri": "https://localhost:8080/"
        }
      },
      "outputs": [
        {
          "output_type": "stream",
          "name": "stdout",
          "text": [
            "Drive already mounted at /content/drive; to attempt to forcibly remount, call drive.mount(\"/content/drive\", force_remount=True).\n",
            "unzip:  cannot find or open /content/drive/MyDrive/MSST-WebUI/input.zip, /content/drive/MyDrive/MSST-WebUI/input.zip.zip or /content/drive/MyDrive/MSST-WebUI/input.zip.ZIP.\n"
          ]
        }
      ],
      "source": [
        "#@title [Optional] Pack and upload your music files to your google drive\n",
        "#@markdown # Pack and upload your music files to your google drive\n",
        "#@markdown\n",
        "#@markdown Ensure that there are no nested folders in your zip file, but rather direct audio files.\n",
        "#@markdown\n",
        "\n",
        "from google.colab import drive\n",
        "drive.mount(\"/content/drive\")\n",
        "#@markdown Directory where **your zip file** located in, dont miss the slash at the end.\n",
        "data_dir = \"/content/drive/MyDrive/MSST-WebUI/\"  #@param {type:\"string\"}\n",
        "#@markdown Filename of **your zip file**, for example: \"inputs.zip\"\n",
        "zip_filename = \"input.zip\"  #@param {type:\"string\"}\n",
        "ZIP_PATH = data_dir + zip_filename\n",
        "#@markdown You need to package the audio directly into a zip file, **DO NOT** nest folders in the zip file!\n",
        "#@markdown The compressed file will be extracted to the `input` directory. If there are files in your `input` directory, they will be deleted. Please backup in advance.\n",
        "#@markdown\n",
        "\n",
        "!rm -rf /content/MSST-WebUI/input\n",
        "!mkdir -p /content/MSST-WebUI/input\n",
        "!unzip -od /content/MSST-WebUI/input {ZIP_PATH}"
      ]
    },
    {
      "cell_type": "code",
      "execution_count": 4,
      "metadata": {
        "id": "qE6mIsSjkkNx",
        "outputId": "41915fe8-3f47-4c41-e159-3176693d981b",
        "colab": {
          "base_uri": "https://localhost:8080/"
        }
      },
      "outputs": [
        {
          "output_type": "stream",
          "name": "stdout",
          "text": [
            "Drive already mounted at /content/drive; to attempt to forcibly remount, call drive.mount(\"/content/drive\", force_remount=True).\n",
            "\tzip warning: name not matched: /content/MSST-WebUI/results\n",
            "\n",
            "zip error: Nothing to do! (try: zip -r Outputs.zip . -i /content/MSST-WebUI/results)\n",
            "cp: cannot stat 'Outputs.zip': No such file or directory\n"
          ]
        }
      ],
      "source": [
        "#@title [Optional] Save results to google drive\n",
        "#@markdown # Save results to google drive\n",
        "#@markdown\n",
        "#@markdown The results audio files in the output directory will be compressed into a zip file and saved to your google drive.\n",
        "#@markdown\n",
        "\n",
        "from google.colab import drive\n",
        "drive.mount(\"/content/drive\")\n",
        "#@markdown Path to save the zip file, dont miss the slash at the end.\n",
        "output_dir = \"/content/drive/MyDrive/MSST-WebUI/\"  #@param {type:\"string\"}\n",
        "#@markdown Filename of the zip file, for example: \"Outputs.zip\"\n",
        "zip_filename = \"Outputs.zip\"  #@param {type:\"string\"}\n",
        "ZIP_PATH = output_dir + zip_filename\n",
        "\n",
        "!mkdir -p {output_dir}\n",
        "!zip -r \"{zip_filename}\" /content/MSST-WebUI/results\n",
        "!cp -vr \"{zip_filename}\" {output_dir}"
      ]
    },
    {
      "cell_type": "code",
      "execution_count": 5,
      "metadata": {
        "id": "K0fl3a28kkNx"
      },
      "outputs": [],
      "source": [
        "#@title [Optional] Delete all result audio files\n",
        "#@markdown # Click to delete all result audio files\n",
        "#@markdown\n",
        "#@markdown ### Warning: Unrecoverable, please operate with caution\n",
        "#@markdown\n",
        "\n",
        "!rm -rf /content/MSST-WebUI/results"
      ]
    },
    {
      "cell_type": "code",
      "execution_count": 1,
      "metadata": {
        "id": "6m4LU4JckkNy",
        "outputId": "707a2ad6-1ccb-4a79-afce-7626ccd92ea7",
        "colab": {
          "base_uri": "https://localhost:8080/",
          "height": 367
        }
      },
      "outputs": [
        {
          "output_type": "stream",
          "name": "stdout",
          "text": [
            "[Errno 2] No such file or directory: '/content/MSST-WebUI'\n",
            "/content\n"
          ]
        },
        {
          "output_type": "error",
          "ename": "FileNotFoundError",
          "evalue": "[Errno 2] No such file or directory: 'data_backup'",
          "traceback": [
            "\u001b[0;31m---------------------------------------------------------------------------\u001b[0m",
            "\u001b[0;31mFileNotFoundError\u001b[0m                         Traceback (most recent call last)",
            "\u001b[0;32m<ipython-input-1-245fd377bc9e>\u001b[0m in \u001b[0;36m<cell line: 23>\u001b[0;34m()\u001b[0m\n\u001b[1;32m     22\u001b[0m \u001b[0;31m# Make dirs if not exist\u001b[0m\u001b[0;34m\u001b[0m\u001b[0;34m\u001b[0m\u001b[0m\n\u001b[1;32m     23\u001b[0m \u001b[0;32mif\u001b[0m \u001b[0;32mnot\u001b[0m \u001b[0mos\u001b[0m\u001b[0;34m.\u001b[0m\u001b[0mpath\u001b[0m\u001b[0;34m.\u001b[0m\u001b[0mexists\u001b[0m\u001b[0;34m(\u001b[0m\u001b[0;34m\"data\"\u001b[0m\u001b[0;34m)\u001b[0m\u001b[0;34m:\u001b[0m\u001b[0;34m\u001b[0m\u001b[0;34m\u001b[0m\u001b[0m\n\u001b[0;32m---> 24\u001b[0;31m     \u001b[0mshutil\u001b[0m\u001b[0;34m.\u001b[0m\u001b[0mcopytree\u001b[0m\u001b[0;34m(\u001b[0m\u001b[0;34m\"data_backup\"\u001b[0m\u001b[0;34m,\u001b[0m \u001b[0;34m\"data\"\u001b[0m\u001b[0;34m)\u001b[0m\u001b[0;34m\u001b[0m\u001b[0;34m\u001b[0m\u001b[0m\n\u001b[0m\u001b[1;32m     25\u001b[0m \u001b[0;32mif\u001b[0m \u001b[0;32mnot\u001b[0m \u001b[0mos\u001b[0m\u001b[0;34m.\u001b[0m\u001b[0mpath\u001b[0m\u001b[0;34m.\u001b[0m\u001b[0mexists\u001b[0m\u001b[0;34m(\u001b[0m\u001b[0;34m\"configs\"\u001b[0m\u001b[0;34m)\u001b[0m\u001b[0;34m:\u001b[0m\u001b[0;34m\u001b[0m\u001b[0;34m\u001b[0m\u001b[0m\n\u001b[1;32m     26\u001b[0m     \u001b[0mshutil\u001b[0m\u001b[0;34m.\u001b[0m\u001b[0mcopytree\u001b[0m\u001b[0;34m(\u001b[0m\u001b[0;34m\"configs_backup\"\u001b[0m\u001b[0;34m,\u001b[0m \u001b[0;34m\"configs\"\u001b[0m\u001b[0;34m)\u001b[0m\u001b[0;34m\u001b[0m\u001b[0;34m\u001b[0m\u001b[0m\n",
            "\u001b[0;32m/usr/lib/python3.10/shutil.py\u001b[0m in \u001b[0;36mcopytree\u001b[0;34m(src, dst, symlinks, ignore, copy_function, ignore_dangling_symlinks, dirs_exist_ok)\u001b[0m\n\u001b[1;32m    555\u001b[0m     \"\"\"\n\u001b[1;32m    556\u001b[0m     \u001b[0msys\u001b[0m\u001b[0;34m.\u001b[0m\u001b[0maudit\u001b[0m\u001b[0;34m(\u001b[0m\u001b[0;34m\"shutil.copytree\"\u001b[0m\u001b[0;34m,\u001b[0m \u001b[0msrc\u001b[0m\u001b[0;34m,\u001b[0m \u001b[0mdst\u001b[0m\u001b[0;34m)\u001b[0m\u001b[0;34m\u001b[0m\u001b[0;34m\u001b[0m\u001b[0m\n\u001b[0;32m--> 557\u001b[0;31m     \u001b[0;32mwith\u001b[0m \u001b[0mos\u001b[0m\u001b[0;34m.\u001b[0m\u001b[0mscandir\u001b[0m\u001b[0;34m(\u001b[0m\u001b[0msrc\u001b[0m\u001b[0;34m)\u001b[0m \u001b[0;32mas\u001b[0m \u001b[0mitr\u001b[0m\u001b[0;34m:\u001b[0m\u001b[0;34m\u001b[0m\u001b[0;34m\u001b[0m\u001b[0m\n\u001b[0m\u001b[1;32m    558\u001b[0m         \u001b[0mentries\u001b[0m \u001b[0;34m=\u001b[0m \u001b[0mlist\u001b[0m\u001b[0;34m(\u001b[0m\u001b[0mitr\u001b[0m\u001b[0;34m)\u001b[0m\u001b[0;34m\u001b[0m\u001b[0;34m\u001b[0m\u001b[0m\n\u001b[1;32m    559\u001b[0m     return _copytree(entries=entries, src=src, dst=dst, symlinks=symlinks,\n",
            "\u001b[0;31mFileNotFoundError\u001b[0m: [Errno 2] No such file or directory: 'data_backup'"
          ]
        }
      ],
      "source": [
        "#@title Initialize and start WebUI\n",
        "#@markdown # Initialize and start WebUI\n",
        "#@markdown\n",
        "#@markdown After running this cell, you can use your own device to connect to WebUI. The public link will be displayed below.\n",
        "#@markdown\n",
        "#@markdown If you want to modify the inference parameters of the preset process, edit the `data/webui_config.json` file.\n",
        "#@markdown\n",
        "\n",
        "%cd /content/MSST-WebUI\n",
        "\n",
        "LANGUAGE = \"简体中文\" #@param [\"Auto\", \"English\", \"简体中文\", \"繁體中文\", \"日本語\", \"😊\"]\n",
        "MODEL_DOWNLOAD_LINK = \"Auto\" #@param [\"Auto\", \"huggingface.co\", \"hf-mirror.com\"]\n",
        "DEBUG = True #@param {type:\"boolean\"}\n",
        "\n",
        "import json\n",
        "import os\n",
        "import shutil\n",
        "\n",
        "# Supported languages\n",
        "language_dict = {\"Auto\": \"Auto\", \"简体中文\": \"zh_CN\", \"繁體中文\": \"zh_TW\", \"English\": \"en_US\", \"日本語\": \"ja_JP\", \"😊\": \"emoji\"}\n",
        "\n",
        "# Make dirs if not exist\n",
        "if not os.path.exists(\"data\"):\n",
        "    shutil.copytree(\"data_backup\", \"data\")\n",
        "if not os.path.exists(\"configs\"):\n",
        "    shutil.copytree(\"configs_backup\", \"configs\")\n",
        "os.makedirs(\"input\", exist_ok=True)\n",
        "os.makedirs(\"results\", exist_ok=True)\n",
        "\n",
        "# Modify config file\n",
        "with open(\"data/webui_config.json\", 'r', encoding=\"utf-8\") as f:\n",
        "    config = json.load(f)\n",
        "    config['settings']['language'] = language_dict[LANGUAGE]\n",
        "    config['settings']['download_link'] = MODEL_DOWNLOAD_LINK\n",
        "    config['settings']['debug'] = DEBUG\n",
        "with open(\"data/webui_config.json\", 'w', encoding=\"utf-8\") as f:\n",
        "    json.dump(config, f, indent=4)\n",
        "\n",
        "# Start WebUI\n",
        "!python webUI_for_clouds.py"
      ]
    }
  ],
  "metadata": {
    "language_info": {
      "name": "python"
    },
    "colab": {
      "provenance": [],
      "gpuType": "T4"
    },
    "kernelspec": {
      "name": "python3",
      "display_name": "Python 3"
    },
    "accelerator": "GPU"
  },
  "nbformat": 4,
  "nbformat_minor": 0
}